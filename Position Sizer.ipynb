{
 "cells": [
  {
   "cell_type": "code",
   "execution_count": 1,
   "id": "9ead01df",
   "metadata": {},
   "outputs": [],
   "source": []
  },
  {
   "cell_type": "code",
   "execution_count": 2,
   "id": "118001ec",
   "metadata": {},
   "outputs": [
    {
     "name": "stdout",
     "output_type": "stream",
     "text": [
      "[*********************100%***********************]  1 of 1 completed\n",
      "Risk at 2 ATR\n",
      "==============\n",
      "wire: 54.3 shares\n"
     ]
    }
   ],
   "source": [
    "import yfinance as yf\n",
    "import pandas as pd\n",
    "import numpy as np\n",
    "\n",
    "def atr(data,movingRange):\n",
    "    high_low = data['High'] - data['Low']\n",
    "    high_close = np.abs(data['High'] - data['Close'].shift())\n",
    "    low_close = np.abs(data['Low'] - data['Close'].shift())\n",
    "    ranges = pd.concat([high_low, high_close, low_close], axis=1)\n",
    "    true_range = np.max(ranges, axis=1)\n",
    "    atr = true_range.rolling(movingRange).mean()\n",
    "    return atr\n",
    "atrRisk = 2 #Input ATR Risk\n",
    "risk = 600 #Risk Per Portfolio\n",
    "positions = ['wire'] # Position or Positions being used.\n",
    "\n",
    "def size(atrRisk:int,risk:float,positions:list)->str:\n",
    "    data = [yf.download(i) for i in positions]\n",
    "    stopRange = [atrRisk*atr(i,14)[-1] for i in data]\n",
    "    currentPrice = [i['Adj Close'][-1] for i in data]\n",
    "    exitPrice = [a - b for a, b in zip(currentPrice,stopRange)]\n",
    "    numberShares =[ (risk/i) for i in  stopRange]\n",
    "    print(\"Risk at {} ATR\".format(atrRisk))\n",
    "    print(\"==============\")\n",
    "    for i in zip(positions,numberShares):\n",
    "        print(\"{}: {} shares\".format(i[0],round(i[1],1)))\n",
    "\n",
    "size(atrRisk,risk,positions)\n",
    "\n"
   ]
  },
  {
   "cell_type": "code",
   "execution_count": 1,
   "id": "ca231fc0",
   "metadata": {},
   "outputs": [
    {
     "data": {
      "text/plain": [
       "('TSLA', 4.724410421895821)"
      ]
     },
     "execution_count": 1,
     "metadata": {},
     "output_type": "execute_result"
    }
   ],
   "source": [
    "('CBOE', 88.57026970454663)\n",
    "('CPT', 104.58170350598895)\n",
    "('CWST', 181.89689382257052)\n",
    "('F', 351.464300512478)\n",
    "('TBK', 75.88622106600585)"
   ]
  },
  {
   "cell_type": "code",
   "execution_count": null,
   "id": "3eb0c61a",
   "metadata": {},
   "outputs": [],
   "source": []
  }
 ],
 "metadata": {
  "kernelspec": {
   "display_name": "Python 3",
   "language": "python",
   "name": "python3"
  },
  "language_info": {
   "codemirror_mode": {
    "name": "ipython",
    "version": 3
   },
   "file_extension": ".py",
   "mimetype": "text/x-python",
   "name": "python",
   "nbconvert_exporter": "python",
   "pygments_lexer": "ipython3",
   "version": "3.8.8"
  }
 },
 "nbformat": 4,
 "nbformat_minor": 5
}
